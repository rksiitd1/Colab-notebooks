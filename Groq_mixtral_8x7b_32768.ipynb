{
  "nbformat": 4,
  "nbformat_minor": 0,
  "metadata": {
    "colab": {
      "provenance": [],
      "authorship_tag": "ABX9TyOm8JhvQWMApg6JSjzk3Llo",
      "include_colab_link": true
    },
    "kernelspec": {
      "name": "python3",
      "display_name": "Python 3"
    },
    "language_info": {
      "name": "python"
    }
  },
  "cells": [
    {
      "cell_type": "markdown",
      "metadata": {
        "id": "view-in-github",
        "colab_type": "text"
      },
      "source": [
        "<a href=\"https://colab.research.google.com/github/rksiitd1/Colab-notebooks/blob/main/Groq_mixtral_8x7b_32768.ipynb\" target=\"_parent\"><img src=\"https://colab.research.google.com/assets/colab-badge.svg\" alt=\"Open In Colab\"/></a>"
      ]
    },
    {
      "cell_type": "markdown",
      "source": [
        "### **Installation**\n",
        "Make sure you run this cell first to install the Groq library"
      ],
      "metadata": {
        "id": "SXsd0TJMJCP6"
      }
    },
    {
      "cell_type": "code",
      "source": [
        "!pip install groq"
      ],
      "metadata": {
        "id": "xvJSb5vDJEwZ",
        "colab": {
          "base_uri": "https://localhost:8080/"
        },
        "outputId": "497bedde-b7af-4168-9e09-13cb6034fdce"
      },
      "execution_count": null,
      "outputs": [
        {
          "output_type": "stream",
          "name": "stdout",
          "text": [
            "Collecting groq\n",
            "  Downloading groq-0.5.0-py3-none-any.whl (75 kB)\n",
            "\u001b[?25l     \u001b[90m━━━━━━━━━━━━━━━━━━━━━━━━━━━━━━━━━━━━━━━━\u001b[0m \u001b[32m0.0/75.0 kB\u001b[0m \u001b[31m?\u001b[0m eta \u001b[36m-:--:--\u001b[0m\r\u001b[2K     \u001b[90m━━━━━━━━━━━━━━━━━━━━━━━━━━━━━━━━━━━━━━━━\u001b[0m \u001b[32m75.0/75.0 kB\u001b[0m \u001b[31m2.0 MB/s\u001b[0m eta \u001b[36m0:00:00\u001b[0m\n",
            "\u001b[?25hRequirement already satisfied: anyio<5,>=3.5.0 in /usr/local/lib/python3.10/dist-packages (from groq) (3.7.1)\n",
            "Requirement already satisfied: distro<2,>=1.7.0 in /usr/lib/python3/dist-packages (from groq) (1.7.0)\n",
            "Collecting httpx<1,>=0.23.0 (from groq)\n",
            "  Downloading httpx-0.27.0-py3-none-any.whl (75 kB)\n",
            "\u001b[2K     \u001b[90m━━━━━━━━━━━━━━━━━━━━━━━━━━━━━━━━━━━━━━━━\u001b[0m \u001b[32m75.6/75.6 kB\u001b[0m \u001b[31m6.6 MB/s\u001b[0m eta \u001b[36m0:00:00\u001b[0m\n",
            "\u001b[?25hRequirement already satisfied: pydantic<3,>=1.9.0 in /usr/local/lib/python3.10/dist-packages (from groq) (2.6.4)\n",
            "Requirement already satisfied: sniffio in /usr/local/lib/python3.10/dist-packages (from groq) (1.3.1)\n",
            "Requirement already satisfied: typing-extensions<5,>=4.7 in /usr/local/lib/python3.10/dist-packages (from groq) (4.11.0)\n",
            "Requirement already satisfied: idna>=2.8 in /usr/local/lib/python3.10/dist-packages (from anyio<5,>=3.5.0->groq) (3.6)\n",
            "Requirement already satisfied: exceptiongroup in /usr/local/lib/python3.10/dist-packages (from anyio<5,>=3.5.0->groq) (1.2.0)\n",
            "Requirement already satisfied: certifi in /usr/local/lib/python3.10/dist-packages (from httpx<1,>=0.23.0->groq) (2024.2.2)\n",
            "Collecting httpcore==1.* (from httpx<1,>=0.23.0->groq)\n",
            "  Downloading httpcore-1.0.5-py3-none-any.whl (77 kB)\n",
            "\u001b[2K     \u001b[90m━━━━━━━━━━━━━━━━━━━━━━━━━━━━━━━━━━━━━━━━\u001b[0m \u001b[32m77.9/77.9 kB\u001b[0m \u001b[31m7.0 MB/s\u001b[0m eta \u001b[36m0:00:00\u001b[0m\n",
            "\u001b[?25hCollecting h11<0.15,>=0.13 (from httpcore==1.*->httpx<1,>=0.23.0->groq)\n",
            "  Downloading h11-0.14.0-py3-none-any.whl (58 kB)\n",
            "\u001b[2K     \u001b[90m━━━━━━━━━━━━━━━━━━━━━━━━━━━━━━━━━━━━━━━━\u001b[0m \u001b[32m58.3/58.3 kB\u001b[0m \u001b[31m6.0 MB/s\u001b[0m eta \u001b[36m0:00:00\u001b[0m\n",
            "\u001b[?25hRequirement already satisfied: annotated-types>=0.4.0 in /usr/local/lib/python3.10/dist-packages (from pydantic<3,>=1.9.0->groq) (0.6.0)\n",
            "Requirement already satisfied: pydantic-core==2.16.3 in /usr/local/lib/python3.10/dist-packages (from pydantic<3,>=1.9.0->groq) (2.16.3)\n",
            "Installing collected packages: h11, httpcore, httpx, groq\n",
            "Successfully installed groq-0.5.0 h11-0.14.0 httpcore-1.0.5 httpx-0.27.0\n"
          ]
        }
      ]
    },
    {
      "cell_type": "markdown",
      "source": [
        "### **Imports**\n"
      ],
      "metadata": {
        "id": "ssCXbdQuJY4M"
      }
    },
    {
      "cell_type": "code",
      "source": [
        "from google.colab import userdata  # For secure API key storage\n",
        "from groq import Groq\n",
        "import textwrap"
      ],
      "metadata": {
        "id": "frqlaV6cJd60"
      },
      "execution_count": null,
      "outputs": []
    },
    {
      "cell_type": "markdown",
      "source": [
        "### **API Key Setup**\n",
        "Retrieve your GROQ_API_KEY from Google Collab secrets"
      ],
      "metadata": {
        "id": "6bLtjyF5JvOp"
      }
    },
    {
      "cell_type": "code",
      "source": [
        "GROQ_API_KEY = userdata.get(\"GROQ_API_KEY\")"
      ],
      "metadata": {
        "id": "zbdSgQ8lJzYK"
      },
      "execution_count": null,
      "outputs": []
    },
    {
      "cell_type": "markdown",
      "source": [
        "### **Helper Function: Generate Chat Response**"
      ],
      "metadata": {
        "id": "YRCy_zyfKJco"
      }
    },
    {
      "cell_type": "code",
      "source": [
        "def generate_chat_response(user_prompt):\n",
        "    \"\"\"Sends a prompt to the Groq API and retrieves the response.\"\"\"\n",
        "    chat_completion = client.chat.completions.create(\n",
        "        messages=[\n",
        "            {\n",
        "                \"role\": \"user\",\n",
        "                \"content\": user_prompt\n",
        "            }\n",
        "        ],\n",
        "        model=\"mixtral-8x7b-32768\"  # Customize with your desired model\n",
        "    )\n",
        "    return chat_completion.choices[0].message.content"
      ],
      "metadata": {
        "id": "oHFpauX2KVvk"
      },
      "execution_count": null,
      "outputs": []
    },
    {
      "cell_type": "markdown",
      "source": [
        "### **Helper Function: Format Response**"
      ],
      "metadata": {
        "id": "kZQYg-OyKedS"
      }
    },
    {
      "cell_type": "code",
      "source": [
        "def format_response(response, max_line_length=80):\n",
        "    \"\"\"Applies formatting to the response for better readability.\"\"\"\n",
        "    # Paragraph breaks\n",
        "    response = response.replace(\"\\n\", \"\\n\\n\")\n",
        "\n",
        "    # Word wrapping for long lines\n",
        "    lines = response.splitlines()\n",
        "    wrapped_lines = []\n",
        "    for line in lines:\n",
        "        if len(line) > max_line_length:\n",
        "            wrapped_lines.extend(textwrap.wrap(line, max_line_length))\n",
        "        else:\n",
        "            wrapped_lines.append(line)\n",
        "    response = '\\n'.join(wrapped_lines)\n",
        "\n",
        "    # Basic code block detection\n",
        "    if \"```\" not in response and (\"import\" in response or \"def \" in response):\n",
        "        response = \"`\\n\" + response + \"\\n`\"\n",
        "\n",
        "    return response"
      ],
      "metadata": {
        "id": "lNhGWswNKjiR"
      },
      "execution_count": null,
      "outputs": []
    },
    {
      "cell_type": "markdown",
      "source": [
        "### **Main Loop**"
      ],
      "metadata": {
        "id": "RK0RWZfOK--h"
      }
    },
    {
      "cell_type": "code",
      "source": [
        "def Grok(user_prompt):\n",
        "    \"\"\"Processes a user prompt, generates a response, and returns Markdown output.\"\"\"\n",
        "    raw_response = generate_chat_response(user_prompt)\n",
        "    formatted_response = format_response(raw_response)\n",
        "\n",
        "    markdown_output  = f\"**Input Prompt:** {user_prompt}\\n\"\n",
        "    markdown_output += f\"**Output Response:** {formatted_response}\\n\"\n",
        "\n",
        "    print(markdown_output)"
      ],
      "metadata": {
        "id": "jKcKzzJmLD9I"
      },
      "execution_count": null,
      "outputs": []
    },
    {
      "cell_type": "code",
      "source": [],
      "metadata": {
        "colab": {
          "base_uri": "https://localhost:8080/",
          "height": 141
        },
        "id": "rhcEq5VB0cJM",
        "outputId": "f30bfa2e-c12e-44db-b0f3-43e0071f69a5"
      },
      "execution_count": null,
      "outputs": [
        {
          "output_type": "error",
          "ename": "NameError",
          "evalue": "name 'India' is not defined",
          "traceback": [
            "\u001b[0;31m---------------------------------------------------------------------------\u001b[0m",
            "\u001b[0;31mNameError\u001b[0m                                 Traceback (most recent call last)",
            "\u001b[0;32m<ipython-input-18-59d5e31828f7>\u001b[0m in \u001b[0;36m<cell line: 1>\u001b[0;34m()\u001b[0m\n\u001b[0;32m----> 1\u001b[0;31m \u001b[0mGrok\u001b[0m\u001b[0;34m(\u001b[0m\u001b[0mIndia\u001b[0m\u001b[0;34m)\u001b[0m\u001b[0;34m\u001b[0m\u001b[0;34m\u001b[0m\u001b[0m\n\u001b[0m",
            "\u001b[0;31mNameError\u001b[0m: name 'India' is not defined"
          ]
        }
      ]
    }
  ]
}