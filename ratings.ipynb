{
  "nbformat": 4,
  "nbformat_minor": 0,
  "metadata": {
    "colab": {
      "provenance": [],
      "authorship_tag": "ABX9TyOk84po7ljk7kkUVlYVQfCg",
      "include_colab_link": true
    },
    "kernelspec": {
      "name": "python3",
      "display_name": "Python 3"
    },
    "language_info": {
      "name": "python"
    }
  },
  "cells": [
    {
      "cell_type": "markdown",
      "metadata": {
        "id": "view-in-github",
        "colab_type": "text"
      },
      "source": [
        "<a href=\"https://colab.research.google.com/github/rksiitd1/Colab-notebooks/blob/main/ratings.ipynb\" target=\"_parent\"><img src=\"https://colab.research.google.com/assets/colab-badge.svg\" alt=\"Open In Colab\"/></a>"
      ]
    },
    {
      "cell_type": "code",
      "source": [
        "!pip install surprise"
      ],
      "metadata": {
        "colab": {
          "base_uri": "https://localhost:8080/"
        },
        "id": "y99JEZ5rPDJk",
        "outputId": "c46c2309-07e0-456c-b330-4a32383ab308"
      },
      "execution_count": null,
      "outputs": [
        {
          "output_type": "stream",
          "name": "stdout",
          "text": [
            "Collecting surprise\n",
            "  Downloading surprise-0.1-py2.py3-none-any.whl (1.8 kB)\n",
            "Collecting scikit-surprise (from surprise)\n",
            "  Downloading scikit-surprise-1.1.3.tar.gz (771 kB)\n",
            "\u001b[2K     \u001b[90m━━━━━━━━━━━━━━━━━━━━━━━━━━━━━━━━━━━━━━━━\u001b[0m \u001b[32m772.0/772.0 kB\u001b[0m \u001b[31m8.4 MB/s\u001b[0m eta \u001b[36m0:00:00\u001b[0m\n",
            "\u001b[?25h  Preparing metadata (setup.py) ... \u001b[?25l\u001b[?25hdone\n",
            "Requirement already satisfied: joblib>=1.0.0 in /usr/local/lib/python3.10/dist-packages (from scikit-surprise->surprise) (1.3.2)\n",
            "Requirement already satisfied: numpy>=1.17.3 in /usr/local/lib/python3.10/dist-packages (from scikit-surprise->surprise) (1.25.2)\n",
            "Requirement already satisfied: scipy>=1.3.2 in /usr/local/lib/python3.10/dist-packages (from scikit-surprise->surprise) (1.11.4)\n",
            "Building wheels for collected packages: scikit-surprise\n",
            "  Building wheel for scikit-surprise (setup.py) ... \u001b[?25l\u001b[?25hdone\n",
            "  Created wheel for scikit-surprise: filename=scikit_surprise-1.1.3-cp310-cp310-linux_x86_64.whl size=3162743 sha256=020a23a28450096a0e3a2fdf7a91e5e51c3859263cbc457e8480c24f1e8b72bc\n",
            "  Stored in directory: /root/.cache/pip/wheels/a5/ca/a8/4e28def53797fdc4363ca4af740db15a9c2f1595ebc51fb445\n",
            "Successfully built scikit-surprise\n",
            "Installing collected packages: scikit-surprise, surprise\n",
            "Successfully installed scikit-surprise-1.1.3 surprise-0.1\n"
          ]
        }
      ]
    },
    {
      "cell_type": "code",
      "execution_count": null,
      "metadata": {
        "id": "caCSsT2PjiAA"
      },
      "outputs": [],
      "source": [
        "import pandas as pd\n",
        "from surprise import Dataset, Reader, SVD, accuracy\n",
        "\n",
        "# Load the MovieLens dataset\n",
        "ratings_data = pd.read_csv('ratings.csv')\n",
        "reader = Reader(rating_scale=(1, 5))\n",
        "data = Dataset.load_from_df(ratings_data[['userId', 'movieId', 'rating']], reader)\n",
        "\n",
        "# Train a matrix factorization model (SVD)\n",
        "algo = SVD()\n",
        "trainset = data.build_full_trainset()\n",
        "algo.fit(trainset)\n",
        "\n",
        "# Get recommendations for a user\n",
        "user_id = 10\n",
        "user_movies = ratings_data[ratings_data['userId'] == user_id]['movieId'].tolist()\n",
        "predictions = [algo.predict(user_id, iid) for iid in user_movies]\n",
        "\n",
        "# Sort for top recommendations based on est. rating\n",
        "predictions.sort(key=lambda x: x.est, reverse=True)\n",
        "top_recommendations = predictions[:10]\n"
      ]
    },
    {
      "cell_type": "code",
      "source": [
        "# ... (Previous code) ...\n",
        "\n",
        "# Print the top recommendations\n",
        "for prediction in top_recommendations:\n",
        "    print(f\"Movie ID: {prediction.iid}, Predicted Rating: {prediction.est}\")\n"
      ],
      "metadata": {
        "colab": {
          "base_uri": "https://localhost:8080/"
        },
        "id": "krBmAFiDR54h",
        "outputId": "bb1b61cc-4285-4fe2-a9e1-53dd5899e8ee"
      },
      "execution_count": null,
      "outputs": [
        {
          "output_type": "stream",
          "name": "stdout",
          "text": [
            "Movie ID: 7451, Predicted Rating: 4.1833649225940785\n",
            "Movie ID: 4880, Predicted Rating: 4.027024632734422\n",
            "Movie ID: 2081, Predicted Rating: 3.9303381460067532\n",
            "Movie ID: 356, Predicted Rating: 3.914603138337784\n",
            "Movie ID: 2390, Predicted Rating: 3.8608252099881\n",
            "Movie ID: 81591, Predicted Rating: 3.824918635999364\n",
            "Movie ID: 2572, Predicted Rating: 3.8198860220551634\n",
            "Movie ID: 2528, Predicted Rating: 3.819555853357615\n",
            "Movie ID: 3362, Predicted Rating: 3.7607856779399795\n",
            "Movie ID: 39, Predicted Rating: 3.7138318596857958\n"
          ]
        }
      ]
    }
  ]
}