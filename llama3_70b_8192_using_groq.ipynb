{
  "nbformat": 4,
  "nbformat_minor": 0,
  "metadata": {
    "colab": {
      "provenance": [],
      "authorship_tag": "ABX9TyOd55pmgGsm9S7p12AJ36Ch",
      "include_colab_link": true
    },
    "kernelspec": {
      "name": "python3",
      "display_name": "Python 3"
    },
    "language_info": {
      "name": "python"
    }
  },
  "cells": [
    {
      "cell_type": "markdown",
      "metadata": {
        "id": "view-in-github",
        "colab_type": "text"
      },
      "source": [
        "<a href=\"https://colab.research.google.com/github/rksiitd1/Colab-notebooks/blob/main/llama3_70b_8192_using_groq.ipynb\" target=\"_parent\"><img src=\"https://colab.research.google.com/assets/colab-badge.svg\" alt=\"Open In Colab\"/></a>"
      ]
    },
    {
      "cell_type": "code",
      "source": [
        "!pip install groq"
      ],
      "metadata": {
        "colab": {
          "base_uri": "https://localhost:8080/"
        },
        "id": "WpmUYXo0eTsz",
        "outputId": "ba72c34e-42aa-4d39-ad7b-14544a36cfaa"
      },
      "execution_count": null,
      "outputs": [
        {
          "output_type": "stream",
          "name": "stdout",
          "text": [
            "Requirement already satisfied: groq in /usr/local/lib/python3.10/dist-packages (0.5.0)\n",
            "Requirement already satisfied: anyio<5,>=3.5.0 in /usr/local/lib/python3.10/dist-packages (from groq) (3.7.1)\n",
            "Requirement already satisfied: distro<2,>=1.7.0 in /usr/lib/python3/dist-packages (from groq) (1.7.0)\n",
            "Requirement already satisfied: httpx<1,>=0.23.0 in /usr/local/lib/python3.10/dist-packages (from groq) (0.27.0)\n",
            "Requirement already satisfied: pydantic<3,>=1.9.0 in /usr/local/lib/python3.10/dist-packages (from groq) (2.7.0)\n",
            "Requirement already satisfied: sniffio in /usr/local/lib/python3.10/dist-packages (from groq) (1.3.1)\n",
            "Requirement already satisfied: typing-extensions<5,>=4.7 in /usr/local/lib/python3.10/dist-packages (from groq) (4.11.0)\n",
            "Requirement already satisfied: idna>=2.8 in /usr/local/lib/python3.10/dist-packages (from anyio<5,>=3.5.0->groq) (3.7)\n",
            "Requirement already satisfied: exceptiongroup in /usr/local/lib/python3.10/dist-packages (from anyio<5,>=3.5.0->groq) (1.2.0)\n",
            "Requirement already satisfied: certifi in /usr/local/lib/python3.10/dist-packages (from httpx<1,>=0.23.0->groq) (2024.2.2)\n",
            "Requirement already satisfied: httpcore==1.* in /usr/local/lib/python3.10/dist-packages (from httpx<1,>=0.23.0->groq) (1.0.5)\n",
            "Requirement already satisfied: h11<0.15,>=0.13 in /usr/local/lib/python3.10/dist-packages (from httpcore==1.*->httpx<1,>=0.23.0->groq) (0.14.0)\n",
            "Requirement already satisfied: annotated-types>=0.4.0 in /usr/local/lib/python3.10/dist-packages (from pydantic<3,>=1.9.0->groq) (0.6.0)\n",
            "Requirement already satisfied: pydantic-core==2.18.1 in /usr/local/lib/python3.10/dist-packages (from pydantic<3,>=1.9.0->groq) (2.18.1)\n"
          ]
        }
      ]
    },
    {
      "cell_type": "code",
      "execution_count": null,
      "metadata": {
        "colab": {
          "base_uri": "https://localhost:8080/"
        },
        "id": "pdkQrxoBd6d3",
        "outputId": "7eb7e3c3-d083-4a8b-9988-4f9911279546"
      },
      "outputs": [
        {
          "output_type": "stream",
          "name": "stdout",
          "text": [
            "Fast language models have become increasingly important in recent years due to their numerous applications in natural language processing (NLP) and the significant benefits they offer. Here are some reasons why fast language models are important:\n",
            "\n",
            "1. **Efficient Inference**: Fast language models can process and generate text quickly, making them suitable for real-time applications such as chatbots, virtual assistants, and language translation. This is particularly important in applications where timing is critical, such as in emergency response systems or real-time customer support.\n",
            "2. **Scalability**: Fast language models can handle large volumes of data and scale to meet the demands of large-scale applications, such as language translation, sentiment analysis, and text summarization.\n",
            "3. **Low Latency**: Fast language models can respond quickly to user input, providing a more seamless and interactive experience. This is particularly important in applications such as voice assistants, where users expect immediate responses.\n",
            "4. **Improved User Experience**: Fast language models can generate human-like responses, enabling more natural and engaging conversations. This leads to a better user experience, increasing user satisfaction and adoption.\n",
            "5. **Cost-Effective**: Fast language models can significantly reduce the computational resources and energy required for language processing, making them a cost-effective solution for businesses and organizations.\n",
            "6. **Edge AI**: Fast language models can be deployed on edge devices, such as smartphones, smart home devices, or autonomous vehicles, enabling AI capabilities at the edge, reducing latency, and improving responsiveness.\n",
            "7. **Real-time Insights**: Fast language models can analyze large amounts of text data in real-time, providing insights and trends that can inform business decisions, detect anomalies, or identify new opportunities.\n",
            "8. **Content Generation**: Fast language models can generate high-quality content, such as articles, social media posts, or chatbot responses, at an unprecedented scale and speed, revolutionizing the content creation process.\n",
            "9. **Research and Development**: Fast language models can accelerate research in NLP, enabling scientists to explore new ideas, test hypotheses, and improve the state-of-the-art in language understanding and generation.\n",
            "10. **Social Impact**: Fast language models have the potential to positively impact society by enabling more efficient and effective communication, improving access to information, and enhancing the quality of life for individuals and communities.\n",
            "\n",
            "In summary, fast language models are essential for unlocking the full potential of NLP, enabling efficient, scalable, and cost-effective solutions that can revolutionize various industries and aspects of our lives.\n"
          ]
        }
      ],
      "source": [
        "from google.colab import userdata\n",
        "\n",
        "from groq import Groq\n",
        "\n",
        "client = Groq(\n",
        "    api_key=userdata.get(\"GROQ_API_KEY\"),\n",
        ")\n",
        "\n",
        "chat_completion = client.chat.completions.create(\n",
        "    messages=[\n",
        "        {\n",
        "            \"role\": \"user\",\n",
        "            \"content\": \"Explain the importance of fast language models\",\n",
        "        }\n",
        "    ],\n",
        "    model=\"llama3-70b-8192\",\n",
        ")\n",
        "\n",
        "print(chat_completion.choices[0].message.content)"
      ]
    }
  ]
}